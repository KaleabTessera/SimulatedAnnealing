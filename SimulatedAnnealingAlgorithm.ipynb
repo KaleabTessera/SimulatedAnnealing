{
 "cells": [
  {
   "cell_type": "markdown",
   "metadata": {},
   "source": [
    "<center> \n",
    "        <h1>\n",
    "    Simulated Annealing\n",
    "        </h1>\n",
    "        <h2>\n",
    "    Large Scale Optimization for Data Science\n",
    "        </h2>\n",
    "        <h3>\n",
    "    Kale-ab Tessera, 1973752\n",
    "        </h3>,\n",
    "    </center>"
   ]
  },
  {
   "cell_type": "markdown",
   "metadata": {},
   "source": [
    "Implementation of the Simulated Annealing Algorithm in solving the (Symmetric) Travelling Salesman Problem. "
   ]
  },
  {
   "cell_type": "code",
   "execution_count": 99,
   "metadata": {},
   "outputs": [],
   "source": [
    "import numpy as np\n",
    "import math\n",
    "\n",
    "class SimulatedAnnealing:\n",
    "    def __init__(self,x,M,T,n,L,E):\n",
    "        #Step 1 - Initialize values to what is passed in.\n",
    "        self.initialX = x\n",
    "        self.M = M\n",
    "        self.T = T\n",
    "        self.n = n\n",
    "        self.L = L\n",
    "        self.E = E\n",
    "        \n",
    "    # Distance function to calculate length of tour\n",
    "    def calculateLengthOfTour(tour,M):\n",
    "        sumDistance = 0\n",
    "        for ind in range(len(tour)):\n",
    "            v_1 = tour[ind]\n",
    "        \n",
    "            #If at the end of tour, use home V\n",
    "            if(ind == (len(tour) -1 )):\n",
    "                v_2 = tour[0]\n",
    "            else:\n",
    "                v_2 = tour[ind+1]\n",
    "            \n",
    "            sumDistance += M[v_1][v_2]\n",
    "        \n",
    "        return sumDistance \n",
    "\n",
    "    # Function to generate a new tour, with 2 cities swapped at random\n",
    "    def generateNewTour(x):\n",
    "        # Step 3.1 - 3.2 - replace = False ensures no duplicates indexs\n",
    "        # Choosing two non-repeating random numbers for indexs\n",
    "        rangeForRandomNumbers = np.arange(len(x))\n",
    "        uniqueRandomIndexs = np.random.choice(rangeForRandomNumbers,2,replace=False)\n",
    "        n1 = uniqueRandomIndexs[0]\n",
    "        n2 = uniqueRandomIndexs[1]\n",
    "\n",
    "        # Step 3.3 - 3.4 - create y\n",
    "        y = np.copy(x)\n",
    "        temp = y[n1]\n",
    "        y[n1] = y[n2]\n",
    "        y[n2] = temp\n",
    "\n",
    "        return y \n",
    "\n",
    "    def run(self):\n",
    "        x = self.initialX\n",
    "        fx = calculateLengthOfTour(x,self.M)\n",
    "        T = self.T\n",
    "        E = self.E\n",
    "        # Step 2 - looping while T > E\n",
    "        while T > E:\n",
    "            # Step 3 - run for length L - length of Markov chain - the total number of solutions generated at a particular temperature.\n",
    "            for i in range(L):\n",
    "                # Step 3.1 - 3.3 - create new tour y \n",
    "                y = generateNewTour(x)\n",
    "                # Step 3.4 - evaulate y\n",
    "                fy = calculateLengthOfTour(y,self.M)\n",
    "\n",
    "                # Step 4\n",
    "                if(fy < fx):\n",
    "                    x = y\n",
    "                    fx = fy\n",
    "                else:\n",
    "                    # Generate random number between 0 and 1\n",
    "                    randomNum = np.random.rand()\n",
    "                    # Metropolis acceptance Probability\n",
    "                    # exp(-(fy-fx)/T) function is same as e^(-(fy-fx)/T)\n",
    "                    if(randomNum < math.exp(-(fy-fx)/T)):\n",
    "                        x = y\n",
    "                        fx = fy\n",
    "\n",
    "            # End forloop - end of Markov chain.\n",
    "            # Step 5 - Decreasing T\n",
    "            T = 0.9*T\n",
    "            \n",
    "        #End while loop\n",
    "        \n",
    "        #Return best tour x and best fx\n",
    "        return x,fx\n",
    "            \n",
    "    "
   ]
  },
  {
   "cell_type": "code",
   "execution_count": 100,
   "metadata": {},
   "outputs": [
    {
     "name": "stdout",
     "output_type": "stream",
     "text": [
      "Best tour:  [0 6 5 4 3 2 1] Best fx:  7\n"
     ]
    }
   ],
   "source": [
    "#Step 1 - Initialize Values\n",
    "T = 15\n",
    "n = 7\n",
    "L = 20\n",
    "E = 10 ** -2 \n",
    "#Equivalent to ([1,7,2,4,6,5,3]), starting at index 0\n",
    "x = np.array([0,6,1,3,5,4,2])\n",
    "M = np.array(\n",
    "        [ 0, 1, 3, 5, 2, 1, 1,\n",
    "          1, 0, 1, 6, 9, 4, 3,\n",
    "          3, 1, 0, 1, 5, 3, 2,\n",
    "          5, 6, 1, 0, 1, 2, 5,\n",
    "          2, 9, 5, 1, 0, 1, 6,\n",
    "          1, 4, 3, 2, 1, 0, 1,\n",
    "          1, 3, 2, 5, 6, 1, 0\n",
    "        ])\n",
    "M = M.reshape(7,7)\n",
    "SA = SimulatedAnnealing(x,M,T,n,L,E)\n",
    "\n",
    "# Run simulated annealing algorithm\n",
    "bestx,bestfx = SA.run()\n",
    "print(\"Best tour: \",bestx,\"Best fx: \",bestfx)\n",
    "        "
   ]
  }
 ],
 "metadata": {
  "kernelspec": {
   "display_name": "Python 3",
   "language": "python",
   "name": "python3"
  },
  "language_info": {
   "codemirror_mode": {
    "name": "ipython",
    "version": 3
   },
   "file_extension": ".py",
   "mimetype": "text/x-python",
   "name": "python",
   "nbconvert_exporter": "python",
   "pygments_lexer": "ipython3",
   "version": "3.6.4"
  }
 },
 "nbformat": 4,
 "nbformat_minor": 2
}
